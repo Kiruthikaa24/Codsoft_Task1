{
 "cells": [
  {
   "cell_type": "code",
   "execution_count": 9,
   "id": "2122d618-92b9-4db6-a964-3592740de398",
   "metadata": {},
   "outputs": [],
   "source": [
    "import random\n",
    "import time\n",
    "import re"
   ]
  },
  {
   "cell_type": "code",
   "execution_count": 6,
   "id": "22a5ac8e-8305-489f-b170-bfe0030c14d4",
   "metadata": {},
   "outputs": [],
   "source": [
    "memory={}\n"
   ]
  },
  {
   "cell_type": "code",
   "execution_count": 7,
   "id": "4a31eccb-3a89-48e9-9459-2d9d47dccaa2",
   "metadata": {},
   "outputs": [],
   "source": [
    "jokes=[\n",
    "    \"What does a storm cloud wear under his raincoat?Thunderwear\",\n",
    "    \"How does the ocean say hi?It Waves\",\n",
    "    \"What do you call two bananas on the floor?Slippers\" \n",
    "]\n",
    "motivational_quotes=[\n",
    "    \"Push yourself,because no one is goint to do for you\",\n",
    "    \"Dream it.Wish it.Do it\",\n",
    "    \"You get what you fight for.Not what you wish for\"\n",
    "]\n",
    "codetips=[\n",
    "    \"Always keep your functions short and focused\",\n",
    "    \"Use version control likr git for all projects\",\n",
    "    \"Write clean and simple neat code\"\n",
    "]\n",
    "\n",
    "def detect_intent(user_input):\n",
    "    user_input=user_input.lower()\n",
    "    tokens=user_input.split()\n",
    "\n",
    "    if re.search(r\"\\b(hello|hi|hey)\\b\",user_input):\n",
    "        return \"greet\"\n",
    "    elif re.search(\"\\\\bmy name is\\b\",user_input) or (\"name\" in tokens and \"my\" in tokens):\n",
    "        return \"set_name\"\n",
    "    elif \"name\" in tokens:\n",
    "        return \"ask_name\"\n",
    "    elif re.search(r\"\\bhow are you\\b\",user_input):\n",
    "        return \"how_are_you\"\n",
    "    elif \"time\" in tokens:\n",
    "        return \"get_time\"\n",
    "    elif \"joke\" in tokens:\n",
    "        return \"tell_joke\"\n",
    "    elif \"quotes\" in tokens or \"motivational\" in tokens or \"motivate\" in tokens:\n",
    "        return \"motivational_quotes\"\n",
    "    elif \"tip\" in tokens or \"code\" in tokens or \"programming\" in tokens:\n",
    "        return \"codetips\"\n",
    "    elif \"bye\" in tokens or \"exit\" in tokens or \"goodbye\" in tokens:\n",
    "        return \"exit\"\n",
    "    elif \"hobby\" in user_input or \"interest\" in user_input:\n",
    "        return \"hobby\"\n",
    "    elif \"music\" in user_input:\n",
    "        return \"music\"\n",
    "    elif \"color\" in user_input or \"colour\" in user_input:\n",
    "        return \"color\"\n",
    "    else:\n",
    "        return \"unknown\"\n",
    "        \n"
   ]
  },
  {
   "cell_type": "code",
   "execution_count": 8,
   "id": "1b6982ee-237b-4108-9495-48b52942753d",
   "metadata": {},
   "outputs": [
    {
     "name": "stdout",
     "output_type": "stream",
     "text": [
      "Kitty: Hello! I'm your AI-powered chatbot assistant. Type 'bye' to exit.\n"
     ]
    },
    {
     "name": "stdin",
     "output_type": "stream",
     "text": [
      "You: how are you\n"
     ]
    },
    {
     "name": "stdout",
     "output_type": "stream",
     "text": [
      "Kitty: I am functioning at full capacity! And you?\n"
     ]
    },
    {
     "name": "stdin",
     "output_type": "stream",
     "text": [
      "You: tell me a random joke\n"
     ]
    },
    {
     "name": "stdout",
     "output_type": "stream",
     "text": [
      "Kitty: How does the ocean say hi?It Waves\n"
     ]
    },
    {
     "name": "stdin",
     "output_type": "stream",
     "text": [
      "You: what is the time\n"
     ]
    },
    {
     "name": "stdout",
     "output_type": "stream",
     "text": [
      "Kitty: the current time is: 2025-07-28 21:46:30\n"
     ]
    },
    {
     "name": "stdin",
     "output_type": "stream",
     "text": [
      "You: say any motivational quotes\n"
     ]
    },
    {
     "name": "stdout",
     "output_type": "stream",
     "text": [
      "Kitty: Sorry!! Can you rephrase it?\n"
     ]
    },
    {
     "name": "stdin",
     "output_type": "stream",
     "text": [
      "You: say any quotes\n"
     ]
    },
    {
     "name": "stdout",
     "output_type": "stream",
     "text": [
      "Kitty: Sorry!! Can you rephrase it?\n"
     ]
    },
    {
     "name": "stdin",
     "output_type": "stream",
     "text": [
      "You: motivate me\n"
     ]
    },
    {
     "name": "stdout",
     "output_type": "stream",
     "text": [
      "Kitty: Push yourself,because no one is goint to do for you\n"
     ]
    },
    {
     "name": "stdin",
     "output_type": "stream",
     "text": [
      "You: exit\n"
     ]
    },
    {
     "name": "stdout",
     "output_type": "stream",
     "text": [
      "Kitty: Goodbye, friend! See you soon!\n"
     ]
    }
   ],
   "source": [
    "def chatbot_response(user_input):\n",
    "    intent=detect_intent(user_input)\n",
    "\n",
    "    if intent==\"greet\":\n",
    "        return \"Hi there!What's your name?\"\n",
    "\n",
    "    elif intent==\"set_name\":\n",
    "        match=re.search(r\"my name is ([a-zA-Z]+)\",user_input)\n",
    "        name=match.group(1).capitalize() if match else \"friend\"\n",
    "        memory[\"name\"]=name\n",
    "        return f\"Nice to meet you, {name}!\"\n",
    "\n",
    "    elif intent==\"ask_name\":\n",
    "        return \"I am Kitty,you Smart chat Assistant\"\n",
    "\n",
    "    elif intent==\"how_are_you\":\n",
    "        return \"I am functioning at full capacity! And you?\"\n",
    "\n",
    "    elif intent==\"get_time\":\n",
    "        return f\"the current time is: {time.strftime('%Y-%m-%d %H:%M:%S')}\"\n",
    "\n",
    "    elif intent==\"tell_joke\":\n",
    "        return random.choice(jokes)\n",
    "        \n",
    "    elif intent==\"motivational_quotes\":\n",
    "        return random.choice(motivational_quotes)\n",
    "\n",
    "    elif intent==\"codetips\":\n",
    "        return random.choice(codetips)\n",
    "\n",
    "    elif intent==\"hobby\":\n",
    "        return \"I love chatting and exploring new things!\"\n",
    "        \n",
    "    elif intent==\"music\":\n",
    "        return \"I don't have ability to hear music but I know many people love ARR and Anirudh Musics!\"\n",
    "\n",
    "    elif intent==\"color\":\n",
    "        return \"I like Blue Colour since it symbolized peace and calmness\"\n",
    "\n",
    "    elif intent==\"exit\":\n",
    "        name=memory.get(\"name\",\"friend\")\n",
    "        return f\"Goodbye, {name}! See you soon!\"\n",
    "\n",
    "    else:\n",
    "        return \"Sorry!! Can you rephrase it?\"\n",
    "\n",
    "print(\"Kitty: Hello! I'm your AI-powered chatbot assistant. Type 'bye' to exit.\")\n",
    "\n",
    "while True:\n",
    "    user_input=input(\"You:\")\n",
    "    response=chatbot_response(user_input)\n",
    "    print(\"Kitty:\",response)\n",
    "    if detect_intent(user_input)==\"exit\":\n",
    "        break\n",
    "    "
   ]
  },
  {
   "cell_type": "code",
   "execution_count": null,
   "id": "b12fe51a-48bd-4737-beef-439606f0408d",
   "metadata": {},
   "outputs": [],
   "source": []
  }
 ],
 "metadata": {
  "kernelspec": {
   "display_name": "Python 3 (ipykernel)",
   "language": "python",
   "name": "python3"
  },
  "language_info": {
   "codemirror_mode": {
    "name": "ipython",
    "version": 3
   },
   "file_extension": ".py",
   "mimetype": "text/x-python",
   "name": "python",
   "nbconvert_exporter": "python",
   "pygments_lexer": "ipython3",
   "version": "3.12.7"
  }
 },
 "nbformat": 4,
 "nbformat_minor": 5
}
